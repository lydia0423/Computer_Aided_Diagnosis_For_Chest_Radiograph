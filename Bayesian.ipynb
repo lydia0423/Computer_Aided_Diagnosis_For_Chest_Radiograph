{
 "cells": [
  {
   "cell_type": "code",
   "execution_count": 41,
   "id": "ceb13570",
   "metadata": {},
   "outputs": [],
   "source": [
    "import os\n",
    "import splitfolders\n",
    "from tensorflow.keras.preprocessing.image import ImageDataGenerator\n",
    "from PIL import Image\n",
    "from tensorflow.keras.models import Model\n",
    "import scipy\n",
    "import cv2\n",
    "import numpy as np"
   ]
  },
  {
   "cell_type": "code",
   "execution_count": 3,
   "id": "9424df26",
   "metadata": {},
   "outputs": [
    {
     "name": "stderr",
     "output_type": "stream",
     "text": [
      "Copying files: 10712 files [00:36, 294.07 files/s]\n"
     ]
    }
   ],
   "source": [
    "# input_dir = os.path.join('C:/Users/Lydia/Desktop/New folder/Dataset_Phase1/')\n",
    "# output_dir = os.path.join('C:/Users/Lydia/Desktop/New folder/Dataset_split/')\n",
    "\n",
    "# splitfolders.ratio(input_dir, output=output_dir, seed=1337, ratio=(.8,.2))"
   ]
  },
  {
   "cell_type": "code",
   "execution_count": 42,
   "id": "2f770bc1",
   "metadata": {},
   "outputs": [],
   "source": [
    "train_dir = os.path.join('C:/Users/lydia/Documents/GitHub/Computer_Aided_Diagnosis_For_Chest_Radiograph/Dataset_split/train/')\n",
    "test_dir = os.path.join('C:/Users/lydia/Documents/GitHub/Computer_Aided_Diagnosis_For_Chest_Radiograph/Dataset_split/val/')"
   ]
  },
  {
   "cell_type": "code",
   "execution_count": 43,
   "id": "176db993",
   "metadata": {},
   "outputs": [],
   "source": [
    "def image_generator(train_parent_directory, test_parent_directory):\n",
    "    train_datagen = ImageDataGenerator(rescale=1/255)\n",
    "    test_datagen = ImageDataGenerator(rescale=1/255)\n",
    "    \n",
    "    train_generator = train_datagen.flow_from_directory(train_parent_directory,\n",
    "                                                       target_size=(224,224),\n",
    "                                                        batch_size=140,\n",
    "                                                        class_mode='categorical',\n",
    "                                                        subset='training')\n",
    "    \n",
    "    test_generator = test_datagen.flow_from_directory(test_parent_directory,\n",
    "                                                     target_size=(224,224),\n",
    "                                                      batch_size=37,\n",
    "                                                      class_mode='categorical')\n",
    "    \n",
    "    return train_generator, test_generator"
   ]
  },
  {
   "cell_type": "code",
   "execution_count": 44,
   "id": "a8ed6a25",
   "metadata": {},
   "outputs": [
    {
     "name": "stdout",
     "output_type": "stream",
     "text": [
      "Found 8569 images belonging to 2 classes.\n",
      "Found 2143 images belonging to 2 classes.\n"
     ]
    }
   ],
   "source": [
    "train_generator, test_generator = image_generator(train_dir, test_dir)"
   ]
  },
  {
   "cell_type": "code",
   "execution_count": 52,
   "id": "4dc40671",
   "metadata": {},
   "outputs": [],
   "source": [
    "import tensorflow as tf\n",
    "import tensorflow_probability as tfp\n",
    "from tensorflow.keras.optimizers import Adam\n",
    "from tensorflow.keras.models import Sequential\n",
    "from tensorflow.keras.layers import Dense, Conv2D, MaxPooling2D, Flatten, Dropout"
   ]
  },
  {
   "cell_type": "code",
   "execution_count": 53,
   "id": "d7bf9572",
   "metadata": {},
   "outputs": [],
   "source": [
    "tfd = tfp.distributions\n",
    "tfpl = tfp.layers"
   ]
  },
  {
   "cell_type": "code",
   "execution_count": 54,
   "id": "41155c88",
   "metadata": {},
   "outputs": [
    {
     "name": "stdout",
     "output_type": "stream",
     "text": [
      "Model: \"sequential_3\"\n",
      "_________________________________________________________________\n",
      " Layer (type)                Output Shape              Param #   \n",
      "=================================================================\n",
      " conv2d_reparameterization_3  (None, 217, 217, 4)      1544      \n",
      "  (Conv2DReparameterization)                                     \n",
      "                                                                 \n",
      " max_pooling2d_12 (MaxPoolin  (None, 108, 108, 4)      0         \n",
      " g2D)                                                            \n",
      "                                                                 \n",
      " conv2d_9 (Conv2D)           (None, 106, 106, 32)      1184      \n",
      "                                                                 \n",
      " max_pooling2d_13 (MaxPoolin  (None, 53, 53, 32)       0         \n",
      " g2D)                                                            \n",
      "                                                                 \n",
      " conv2d_10 (Conv2D)          (None, 51, 51, 64)        18496     \n",
      "                                                                 \n",
      " max_pooling2d_14 (MaxPoolin  (None, 25, 25, 64)       0         \n",
      " g2D)                                                            \n",
      "                                                                 \n",
      " conv2d_11 (Conv2D)          (None, 23, 23, 64)        36928     \n",
      "                                                                 \n",
      " max_pooling2d_15 (MaxPoolin  (None, 11, 11, 64)       0         \n",
      " g2D)                                                            \n",
      "                                                                 \n",
      " flatten_3 (Flatten)         (None, 7744)              0         \n",
      "                                                                 \n",
      " dense_3 (Dense)             (None, 512)               3965440   \n",
      "                                                                 \n",
      " dropout_3 (Dropout)         (None, 512)               0         \n",
      "                                                                 \n",
      " dense_reparameterization_3   (None, 2)                2052      \n",
      " (DenseReparameterization)                                       \n",
      "                                                                 \n",
      " one_hot_categorical_3 (OneH  ((None, 2),              0         \n",
      " otCategorical)               (None, 2))                         \n",
      "                                                                 \n",
      "=================================================================\n",
      "Total params: 4,025,644\n",
      "Trainable params: 4,025,644\n",
      "Non-trainable params: 0\n",
      "_________________________________________________________________\n"
     ]
    }
   ],
   "source": [
    "divergence_fn = lambda q,p,_:tfd.kl_divergence(q,p)/8569\n",
    "\n",
    "model_bayes = Sequential([\n",
    "\n",
    "        tfpl.Convolution2DReparameterization(input_shape=(224,224,3), filters=4, kernel_size=8, activation='relu',\n",
    "                                               kernel_prior_fn = tfpl.default_multivariate_normal_fn,\n",
    "                                               kernel_posterior_fn=tfpl.default_mean_field_normal_fn(is_singular=False),\n",
    "                                               kernel_divergence_fn = divergence_fn,\n",
    "                                               bias_prior_fn = tfpl.default_multivariate_normal_fn,\n",
    "                                               bias_posterior_fn=tfpl.default_mean_field_normal_fn(is_singular=False),\n",
    "                                               bias_divergence_fn = divergence_fn),\n",
    "        MaxPooling2D(2,2),\n",
    "        Conv2D(32, (3,3), activation='relu'),\n",
    "        MaxPooling2D(2,2),\n",
    "        Conv2D(64, (3,3), activation='relu'),\n",
    "        MaxPooling2D(2,2),\n",
    "        Conv2D(64, (3,3), activation='relu'),\n",
    "        MaxPooling2D(2,2),\n",
    "        Flatten(),\n",
    "        Dense(512, activation='relu'),\n",
    "        Dropout(0.2),\n",
    "        tfpl.DenseReparameterization(units=tfpl.OneHotCategorical.params_size(2), activation=None,\n",
    "                                        kernel_prior_fn = tfpl.default_multivariate_normal_fn,\n",
    "                                        kernel_posterior_fn=tfpl.default_mean_field_normal_fn(is_singular=False),\n",
    "                                        kernel_divergence_fn = divergence_fn,\n",
    "                                        bias_prior_fn = tfpl.default_multivariate_normal_fn,\n",
    "                                        bias_posterior_fn=tfpl.default_mean_field_normal_fn(is_singular=False),\n",
    "                                        bias_divergence_fn = divergence_fn\n",
    "                                    ),\n",
    "        tfpl.OneHotCategorical(2)\n",
    "\n",
    "    ])\n",
    "    \n",
    "model_bayes.summary()"
   ]
  },
  {
   "cell_type": "code",
   "execution_count": 57,
   "id": "74112504",
   "metadata": {
    "scrolled": true
   },
   "outputs": [],
   "source": [
    "def negative_log_likelihood(y_true, y_pred):\n",
    "    return -y_pred.log_prob(y_true)\n",
    "\n",
    "model_bayes.compile(loss = negative_log_likelihood,\n",
    "              optimizer = Adam(learning_rate=0.0001),\n",
    "              metrics = ['accuracy'],\n",
    "              experimental_run_tf_function = False)"
   ]
  },
  {
   "cell_type": "code",
   "execution_count": 58,
   "id": "bdfb8229",
   "metadata": {},
   "outputs": [
    {
     "name": "stdout",
     "output_type": "stream",
     "text": [
      "Epoch 1/100\n",
      "62/62 [==============================] - 203s 3s/step - loss: 1.0813 - accuracy: 0.6578\n",
      "Epoch 2/100\n",
      "62/62 [==============================] - 200s 3s/step - loss: 1.0653 - accuracy: 0.6511\n",
      "Epoch 3/100\n",
      "62/62 [==============================] - 200s 3s/step - loss: 1.0567 - accuracy: 0.6603\n",
      "Epoch 4/100\n",
      "62/62 [==============================] - 200s 3s/step - loss: 1.0493 - accuracy: 0.6602\n",
      "Epoch 5/100\n",
      "62/62 [==============================] - 200s 3s/step - loss: 1.0507 - accuracy: 0.6594\n",
      "Epoch 6/100\n",
      "62/62 [==============================] - 200s 3s/step - loss: 1.0427 - accuracy: 0.6610\n",
      "Epoch 7/100\n",
      "62/62 [==============================] - 200s 3s/step - loss: 1.0425 - accuracy: 0.6715\n",
      "Epoch 8/100\n",
      "62/62 [==============================] - 200s 3s/step - loss: 1.0279 - accuracy: 0.6774\n",
      "Epoch 9/100\n",
      "62/62 [==============================] - 199s 3s/step - loss: 1.0240 - accuracy: 0.6785\n",
      "Epoch 10/100\n",
      "62/62 [==============================] - 199s 3s/step - loss: 1.0211 - accuracy: 0.6830\n",
      "Epoch 11/100\n",
      "62/62 [==============================] - 199s 3s/step - loss: 1.0027 - accuracy: 0.6860\n",
      "Epoch 12/100\n",
      "62/62 [==============================] - 199s 3s/step - loss: 1.0183 - accuracy: 0.6778\n",
      "Epoch 13/100\n",
      "62/62 [==============================] - 198s 3s/step - loss: 1.0030 - accuracy: 0.6858\n",
      "Epoch 14/100\n",
      "62/62 [==============================] - 192s 3s/step - loss: 1.0003 - accuracy: 0.6854\n",
      "Epoch 15/100\n",
      "62/62 [==============================] - 194s 3s/step - loss: 0.9809 - accuracy: 0.7008\n",
      "Epoch 16/100\n",
      "62/62 [==============================] - 192s 3s/step - loss: 0.9774 - accuracy: 0.6975\n",
      "Epoch 17/100\n",
      "62/62 [==============================] - 192s 3s/step - loss: 0.9672 - accuracy: 0.7118\n",
      "Epoch 18/100\n",
      "62/62 [==============================] - 193s 3s/step - loss: 0.9598 - accuracy: 0.7126\n",
      "Epoch 19/100\n",
      "62/62 [==============================] - 191s 3s/step - loss: 0.9500 - accuracy: 0.7185\n",
      "Epoch 20/100\n",
      "62/62 [==============================] - 192s 3s/step - loss: 0.9448 - accuracy: 0.7191\n",
      "Epoch 21/100\n",
      "62/62 [==============================] - 192s 3s/step - loss: 0.9292 - accuracy: 0.7354\n",
      "Epoch 22/100\n",
      "62/62 [==============================] - 192s 3s/step - loss: 0.9231 - accuracy: 0.7317\n",
      "Epoch 23/100\n",
      "62/62 [==============================] - 192s 3s/step - loss: 0.9144 - accuracy: 0.7472\n",
      "Epoch 24/100\n",
      "62/62 [==============================] - 192s 3s/step - loss: 0.9071 - accuracy: 0.7427\n",
      "Epoch 25/100\n",
      "62/62 [==============================] - 191s 3s/step - loss: 0.8973 - accuracy: 0.7496\n",
      "Epoch 26/100\n",
      "62/62 [==============================] - 192s 3s/step - loss: 0.8809 - accuracy: 0.7510\n",
      "Epoch 27/100\n",
      "62/62 [==============================] - 192s 3s/step - loss: 0.8815 - accuracy: 0.7643\n",
      "Epoch 28/100\n",
      "62/62 [==============================] - 192s 3s/step - loss: 0.8659 - accuracy: 0.7731\n",
      "Epoch 29/100\n",
      "62/62 [==============================] - 192s 3s/step - loss: 0.8693 - accuracy: 0.7737\n",
      "Epoch 30/100\n",
      "62/62 [==============================] - 192s 3s/step - loss: 0.8485 - accuracy: 0.7771\n",
      "Epoch 31/100\n",
      "62/62 [==============================] - 192s 3s/step - loss: 0.8369 - accuracy: 0.7870\n",
      "Epoch 32/100\n",
      "62/62 [==============================] - 206s 3s/step - loss: 0.8170 - accuracy: 0.8034\n",
      "Epoch 33/100\n",
      "62/62 [==============================] - 202s 3s/step - loss: 0.8137 - accuracy: 0.8017\n",
      "Epoch 34/100\n",
      "62/62 [==============================] - 200s 3s/step - loss: 0.7949 - accuracy: 0.8093\n",
      "Epoch 35/100\n",
      "62/62 [==============================] - 196s 3s/step - loss: 0.7923 - accuracy: 0.8189\n",
      "Epoch 36/100\n",
      "62/62 [==============================] - 189s 3s/step - loss: 0.7786 - accuracy: 0.8220\n",
      "Epoch 37/100\n",
      "62/62 [==============================] - 189s 3s/step - loss: 0.7677 - accuracy: 0.8367\n",
      "Epoch 38/100\n",
      "62/62 [==============================] - 189s 3s/step - loss: 0.7483 - accuracy: 0.8418\n",
      "Epoch 39/100\n",
      "62/62 [==============================] - 198s 3s/step - loss: 0.7315 - accuracy: 0.8555\n",
      "Epoch 40/100\n",
      "62/62 [==============================] - 190s 3s/step - loss: 0.7303 - accuracy: 0.8531\n",
      "Epoch 41/100\n",
      "62/62 [==============================] - 188s 3s/step - loss: 0.7231 - accuracy: 0.8579\n",
      "Epoch 42/100\n",
      "62/62 [==============================] - 187s 3s/step - loss: 0.7005 - accuracy: 0.8722\n",
      "Epoch 43/100\n",
      "62/62 [==============================] - 187s 3s/step - loss: 0.7090 - accuracy: 0.8684\n",
      "Epoch 44/100\n",
      "62/62 [==============================] - 185s 3s/step - loss: 0.6796 - accuracy: 0.8846\n",
      "Epoch 45/100\n",
      "62/62 [==============================] - 185s 3s/step - loss: 0.6641 - accuracy: 0.8924\n",
      "Epoch 46/100\n",
      "62/62 [==============================] - 185s 3s/step - loss: 0.6532 - accuracy: 0.8974\n",
      "Epoch 47/100\n",
      "62/62 [==============================] - 184s 3s/step - loss: 0.6484 - accuracy: 0.9071\n",
      "Epoch 48/100\n",
      "62/62 [==============================] - 187s 3s/step - loss: 0.6365 - accuracy: 0.9099\n",
      "Epoch 49/100\n",
      "62/62 [==============================] - 193s 3s/step - loss: 0.6293 - accuracy: 0.9121\n",
      "Epoch 50/100\n",
      "62/62 [==============================] - 193s 3s/step - loss: 0.6158 - accuracy: 0.9195\n",
      "Epoch 51/100\n",
      "62/62 [==============================] - 192s 3s/step - loss: 0.6034 - accuracy: 0.9310\n",
      "Epoch 52/100\n",
      "62/62 [==============================] - 194s 3s/step - loss: 0.5899 - accuracy: 0.9371\n",
      "Epoch 53/100\n",
      "62/62 [==============================] - 194s 3s/step - loss: 0.5837 - accuracy: 0.9448\n",
      "Epoch 54/100\n",
      "62/62 [==============================] - 193s 3s/step - loss: 0.5744 - accuracy: 0.9483\n",
      "Epoch 55/100\n",
      "62/62 [==============================] - 195s 3s/step - loss: 0.5847 - accuracy: 0.9485\n",
      "Epoch 56/100\n",
      "62/62 [==============================] - 197s 3s/step - loss: 0.5727 - accuracy: 0.9477\n",
      "Epoch 57/100\n",
      "62/62 [==============================] - 202s 3s/step - loss: 0.5564 - accuracy: 0.9575\n",
      "Epoch 58/100\n",
      "62/62 [==============================] - 204s 3s/step - loss: 0.5648 - accuracy: 0.9557\n",
      "Epoch 59/100\n",
      "62/62 [==============================] - 196s 3s/step - loss: 0.5567 - accuracy: 0.9602\n",
      "Epoch 60/100\n",
      "62/62 [==============================] - 206s 3s/step - loss: 0.5434 - accuracy: 0.9676\n",
      "Epoch 61/100\n",
      "62/62 [==============================] - 204s 3s/step - loss: 0.5446 - accuracy: 0.9674\n",
      "Epoch 62/100\n",
      "62/62 [==============================] - 204s 3s/step - loss: 0.5395 - accuracy: 0.9720\n",
      "Epoch 63/100\n",
      "62/62 [==============================] - 204s 3s/step - loss: 0.5414 - accuracy: 0.9681\n",
      "Epoch 64/100\n",
      "62/62 [==============================] - 204s 3s/step - loss: 0.5317 - accuracy: 0.9758\n",
      "Epoch 65/100\n",
      "62/62 [==============================] - 201s 3s/step - loss: 0.5285 - accuracy: 0.9758\n",
      "Epoch 66/100\n",
      "62/62 [==============================] - 201s 3s/step - loss: 0.5239 - accuracy: 0.9784\n",
      "Epoch 67/100\n",
      "62/62 [==============================] - 200s 3s/step - loss: 0.5156 - accuracy: 0.9845\n",
      "Epoch 68/100\n",
      "62/62 [==============================] - 201s 3s/step - loss: 0.5180 - accuracy: 0.9827\n",
      "Epoch 69/100\n",
      "62/62 [==============================] - 199s 3s/step - loss: 0.5206 - accuracy: 0.9781\n",
      "Epoch 70/100\n",
      "62/62 [==============================] - 204s 3s/step - loss: 0.5160 - accuracy: 0.9833\n",
      "Epoch 71/100\n",
      "62/62 [==============================] - 205s 3s/step - loss: 0.5130 - accuracy: 0.9865\n",
      "Epoch 72/100\n",
      "62/62 [==============================] - 200s 3s/step - loss: 0.5094 - accuracy: 0.9868\n",
      "Epoch 73/100\n",
      "62/62 [==============================] - 191s 3s/step - loss: 0.5073 - accuracy: 0.9888\n",
      "Epoch 74/100\n",
      "62/62 [==============================] - 193s 3s/step - loss: 0.5091 - accuracy: 0.9889\n",
      "Epoch 75/100\n",
      "62/62 [==============================] - 193s 3s/step - loss: 0.5127 - accuracy: 0.9820\n",
      "Epoch 76/100\n",
      "62/62 [==============================] - 193s 3s/step - loss: 0.5070 - accuracy: 0.9872\n",
      "Epoch 77/100\n",
      "62/62 [==============================] - 193s 3s/step - loss: 0.5083 - accuracy: 0.9867\n",
      "Epoch 78/100\n",
      "62/62 [==============================] - 194s 3s/step - loss: 0.5148 - accuracy: 0.9839\n",
      "Epoch 79/100\n",
      "62/62 [==============================] - 196s 3s/step - loss: 0.5098 - accuracy: 0.9841\n",
      "Epoch 80/100\n",
      "62/62 [==============================] - 199s 3s/step - loss: 0.5012 - accuracy: 0.9903\n",
      "Epoch 81/100\n",
      "62/62 [==============================] - 198s 3s/step - loss: 0.5087 - accuracy: 0.9837\n",
      "Epoch 82/100\n"
     ]
    },
    {
     "name": "stdout",
     "output_type": "stream",
     "text": [
      "62/62 [==============================] - 196s 3s/step - loss: 0.5108 - accuracy: 0.9838\n",
      "Epoch 83/100\n",
      "62/62 [==============================] - 194s 3s/step - loss: 0.5072 - accuracy: 0.9859\n",
      "Epoch 84/100\n",
      "62/62 [==============================] - 193s 3s/step - loss: 0.5055 - accuracy: 0.9866\n",
      "Epoch 85/100\n",
      "62/62 [==============================] - 193s 3s/step - loss: 0.5023 - accuracy: 0.9890\n",
      "Epoch 86/100\n",
      "62/62 [==============================] - 193s 3s/step - loss: 0.4963 - accuracy: 0.9911\n",
      "Epoch 87/100\n",
      "62/62 [==============================] - 194s 3s/step - loss: 0.4957 - accuracy: 0.9921\n",
      "Epoch 88/100\n",
      "62/62 [==============================] - 193s 3s/step - loss: 0.5003 - accuracy: 0.9877\n",
      "Epoch 89/100\n",
      "62/62 [==============================] - 193s 3s/step - loss: 0.4932 - accuracy: 0.9915\n",
      "Epoch 90/100\n",
      "62/62 [==============================] - 193s 3s/step - loss: 0.4894 - accuracy: 0.9932\n",
      "Epoch 91/100\n",
      "62/62 [==============================] - 192s 3s/step - loss: 0.4989 - accuracy: 0.9902\n",
      "Epoch 92/100\n",
      "62/62 [==============================] - 193s 3s/step - loss: 0.4936 - accuracy: 0.9910\n",
      "Epoch 93/100\n",
      "62/62 [==============================] - 192s 3s/step - loss: 0.5056 - accuracy: 0.9880\n",
      "Epoch 94/100\n",
      "62/62 [==============================] - 192s 3s/step - loss: 0.5023 - accuracy: 0.9805\n",
      "Epoch 95/100\n",
      "62/62 [==============================] - 193s 3s/step - loss: 0.4925 - accuracy: 0.9882\n",
      "Epoch 96/100\n",
      "62/62 [==============================] - 193s 3s/step - loss: 0.4914 - accuracy: 0.9896\n",
      "Epoch 97/100\n",
      "62/62 [==============================] - 192s 3s/step - loss: 0.4832 - accuracy: 0.9937\n",
      "Epoch 98/100\n",
      "62/62 [==============================] - 192s 3s/step - loss: 0.4793 - accuracy: 0.9966\n",
      "Epoch 99/100\n",
      "62/62 [==============================] - 190s 3s/step - loss: 0.4764 - accuracy: 0.9973\n",
      "Epoch 100/100\n",
      "62/62 [==============================] - 190s 3s/step - loss: 0.4758 - accuracy: 0.9970\n"
     ]
    }
   ],
   "source": [
    "history_bayes = model_bayes.fit(\n",
    "      train_generator,\n",
    "      epochs=100,\n",
    "      verbose=1)"
   ]
  },
  {
   "cell_type": "code",
   "execution_count": 59,
   "id": "0990fc5c",
   "metadata": {
    "scrolled": true
   },
   "outputs": [],
   "source": [
    "size = 224\n",
    "dataset = []\n",
    "label = []\n",
    "\n",
    "pneumothorax_images = os.listdir('Pneumothorax/')\n",
    "for i, image_name in enumerate(pneumothorax_images):\n",
    "    image = cv2.imread('Pneumothorax/' + image_name)\n",
    "    image = Image.fromarray(image)\n",
    "    image = image.resize((size,size))\n",
    "    dataset.append(np.array(image))\n",
    "    label.append(1)\n",
    "        \n",
    "normal_images = os.listdir('Normal/')\n",
    "for i, image_name in enumerate(normal_images):\n",
    "    image = cv2.imread('Normal/' + image_name)\n",
    "    image = Image.fromarray(image)\n",
    "    image = image.resize((size,size))\n",
    "    dataset.append(np.array(image))\n",
    "    label.append(0)\n",
    "\n",
    "dataset = np.array(dataset)\n",
    "label = np.array(label)"
   ]
  },
  {
   "cell_type": "code",
   "execution_count": 60,
   "id": "0d7b9708",
   "metadata": {},
   "outputs": [],
   "source": [
    "from sklearn.model_selection import train_test_split\n",
    "X_train, X_test, y_train, y_test = train_test_split(dataset, label, test_size=0.2, random_state=0)\n",
    "X_train = X_train/255.\n",
    "X_test = X_test/255."
   ]
  },
  {
   "cell_type": "code",
   "execution_count": 61,
   "id": "60601638",
   "metadata": {},
   "outputs": [],
   "source": [
    "from tensorflow.keras.utils import to_categorical\n",
    "y_train = to_categorical(y_train)\n",
    "y_test = to_categorical(y_test)"
   ]
  },
  {
   "cell_type": "code",
   "execution_count": 62,
   "id": "72f55488",
   "metadata": {},
   "outputs": [
    {
     "name": "stdout",
     "output_type": "stream",
     "text": [
      "268/268 [==============================] - 32s 113ms/step - loss: 0.7881 - accuracy: 0.9560\n",
      "Accuracy of train datasets =  95.60042023658752 %\n",
      "67/67 [==============================] - 7s 98ms/step - loss: 0.7073 - accuracy: 0.9650\n",
      "Accuracy of valid datasets =  96.50023579597473 %\n"
     ]
    }
   ],
   "source": [
    "_,train_acc = model_bayes.evaluate(X_train, y_train)\n",
    "print('Accuracy of train datasets = ', (train_acc * 100.0), \"%\")\n",
    "\n",
    "_,valid_acc = model_bayes.evaluate(X_test, y_test)\n",
    "print('Accuracy of valid datasets = ', (valid_acc * 100.0), \"%\")"
   ]
  },
  {
   "cell_type": "code",
   "execution_count": 63,
   "id": "bc394371",
   "metadata": {},
   "outputs": [
    {
     "name": "stdout",
     "output_type": "stream",
     "text": [
      "67/67 [==============================] - 7s 96ms/step\n"
     ]
    },
    {
     "data": {
      "text/plain": [
       "<AxesSubplot:>"
      ]
     },
     "execution_count": 63,
     "metadata": {},
     "output_type": "execute_result"
    },
    {
     "data": {
      "image/png": "[encoded data removed]",
      "text/plain": [
       "<Figure size 640x480 with 2 Axes>"
      ]
     },
     "metadata": {},
     "output_type": "display_data"
    }
   ],
   "source": [
    "from sklearn.metrics import confusion_matrix\n",
    "import seaborn as sns\n",
    "\n",
    "y_pred = np.argmax(model_bayes.predict(X_test), axis=1)\n",
    "cm = confusion_matrix(np.argmax(y_test, axis=1), y_pred)\n",
    "sns.heatmap(cm, annot=True)"
   ]
  },
  {
   "cell_type": "code",
   "execution_count": 64,
   "id": "4785c86d",
   "metadata": {},
   "outputs": [],
   "source": [
    "pneumothorax_images_idx = np.where(y_pred == 1)[0]"
   ]
  },
  {
   "cell_type": "code",
   "execution_count": 65,
   "id": "fd3e57de",
   "metadata": {},
   "outputs": [],
   "source": [
    "predicted_as_para = []\n",
    "for i in pneumothorax_images_idx:\n",
    "    pneu_img = X_test[i]\n",
    "    predicted_as_para.append(pneu_img)\n",
    "    \n",
    "predicted_as_para = np.array(predicted_as_para)"
   ]
  },
  {
   "cell_type": "code",
   "execution_count": 88,
   "id": "00106887",
   "metadata": {},
   "outputs": [],
   "source": [
    "from matplotlib.patches import Rectangle\n",
    "from skimage.feature.peak import peak_local_max\n",
    "\n",
    "def plot_heatmap(img):\n",
    "    pred = model_bayes.predict(np.expand_dims(img, axis=0))\n",
    "    pred_class = np.argmax(pred)\n",
    "    last_layer_weights = model_bayes.layers[-1].get_weights()[0]\n",
    "    last_layer_weights_for_pred = last_layer_weights[:, pred_class]\n",
    "    last_conv_model = Model(model_bayes.input, model_bayes.get_layer(\"conv2d_11\").output)\n",
    "    last_conv_output = last_conv_model.predict(img[np.newaxis,:,:,:])\n",
    "    last_conv_output = np.squeeze(last_conv_output)\n",
    "    \n",
    "    h = int(img.shape[0]/last_conv_output.shape[0])\n",
    "    w = int(img.shape[1]/last_conv_output.shape[1])\n",
    "    upsampled_last_conv_output = scipy.ndimage.zoom(last_conv_output, (h, w, 1), order=1)\n",
    "    \n",
    "    heat_map = np.dot(upsampled_last_conv_output.reshape((img.shape[0]*img.shape[1], 64)), \n",
    "                 last_layer_weights_for_pred).reshape(img.shape[0],img.shape[1])\n",
    "    \n",
    "    heat_map[img[:,:,0] == 0] = 0 \n",
    "     \n",
    "    peak_coords = peak_local_max(heat_map, num_peaks=5, threshold_rel=0.5, min_distance=10) \n",
    "\n",
    "    plt.imshow(img.astype('float32').reshape(img.shape[0],img.shape[1],3))\n",
    "    plt.imshow(heat_map, cmap='jet', alpha=0.30)\n",
    "    for i in range(0,peak_coords.shape[0]):\n",
    "        print(i)\n",
    "        y = peak_coords[i,0]\n",
    "        x = peak_coords[i,1]\n",
    "        plt.gca().add_patch(Rectangle((x-25, y-25), 50,50,linewidth=1,edgecolor='r',facecolor='none'))\n"
   ]
  },
  {
   "cell_type": "code",
   "execution_count": 89,
   "id": "1b5ea07e",
   "metadata": {},
   "outputs": [
    {
     "name": "stdout",
     "output_type": "stream",
     "text": [
      "1/1 [==============================] - 0s 38ms/step\n"
     ]
    },
    {
     "ename": "IndexError",
     "evalue": "list index out of range",
     "output_type": "error",
     "traceback": [
      "\u001b[1;31m---------------------------------------------------------------------------\u001b[0m",
      "\u001b[1;31mIndexError\u001b[0m                                Traceback (most recent call last)",
      "\u001b[1;32m~\\AppData\\Local\\Temp\\ipykernel_23600\\2749039019.py\u001b[0m in \u001b[0;36m<module>\u001b[1;34m\u001b[0m\n\u001b[0;32m      1\u001b[0m \u001b[1;32mimport\u001b[0m \u001b[0mrandom\u001b[0m\u001b[1;33m\u001b[0m\u001b[1;33m\u001b[0m\u001b[0m\n\u001b[0;32m      2\u001b[0m \u001b[0mimage\u001b[0m \u001b[1;33m=\u001b[0m \u001b[0mrandom\u001b[0m\u001b[1;33m.\u001b[0m\u001b[0mrandint\u001b[0m\u001b[1;33m(\u001b[0m\u001b[1;36m0\u001b[0m\u001b[1;33m,\u001b[0m\u001b[0mpredicted_as_para\u001b[0m\u001b[1;33m.\u001b[0m\u001b[0mshape\u001b[0m\u001b[1;33m[\u001b[0m\u001b[1;36m0\u001b[0m\u001b[1;33m]\u001b[0m\u001b[1;33m-\u001b[0m\u001b[1;36m1\u001b[0m\u001b[1;33m)\u001b[0m\u001b[1;33m\u001b[0m\u001b[1;33m\u001b[0m\u001b[0m\n\u001b[1;32m----> 3\u001b[1;33m \u001b[0mheat_map\u001b[0m \u001b[1;33m=\u001b[0m\u001b[0mplot_heatmap\u001b[0m\u001b[1;33m(\u001b[0m\u001b[0mpredicted_as_para\u001b[0m\u001b[1;33m[\u001b[0m\u001b[0mimage\u001b[0m\u001b[1;33m]\u001b[0m\u001b[1;33m)\u001b[0m\u001b[1;33m\u001b[0m\u001b[1;33m\u001b[0m\u001b[0m\n\u001b[0m\u001b[0;32m      4\u001b[0m \u001b[1;33m\u001b[0m\u001b[0m\n\u001b[0;32m      5\u001b[0m \u001b[0mimg\u001b[0m \u001b[1;33m=\u001b[0m \u001b[0mpredicted_as_para\u001b[0m\u001b[1;33m[\u001b[0m\u001b[0mimage\u001b[0m\u001b[1;33m]\u001b[0m\u001b[1;33m\u001b[0m\u001b[1;33m\u001b[0m\u001b[0m\n",
      "\u001b[1;32m~\\AppData\\Local\\Temp\\ipykernel_23600\\3723623579.py\u001b[0m in \u001b[0;36mplot_heatmap\u001b[1;34m(img)\u001b[0m\n\u001b[0;32m      5\u001b[0m     \u001b[0mpred\u001b[0m \u001b[1;33m=\u001b[0m \u001b[0mmodel_bayes\u001b[0m\u001b[1;33m.\u001b[0m\u001b[0mpredict\u001b[0m\u001b[1;33m(\u001b[0m\u001b[0mnp\u001b[0m\u001b[1;33m.\u001b[0m\u001b[0mexpand_dims\u001b[0m\u001b[1;33m(\u001b[0m\u001b[0mimg\u001b[0m\u001b[1;33m,\u001b[0m \u001b[0maxis\u001b[0m\u001b[1;33m=\u001b[0m\u001b[1;36m0\u001b[0m\u001b[1;33m)\u001b[0m\u001b[1;33m)\u001b[0m\u001b[1;33m\u001b[0m\u001b[1;33m\u001b[0m\u001b[0m\n\u001b[0;32m      6\u001b[0m     \u001b[0mpred_class\u001b[0m \u001b[1;33m=\u001b[0m \u001b[0mnp\u001b[0m\u001b[1;33m.\u001b[0m\u001b[0margmax\u001b[0m\u001b[1;33m(\u001b[0m\u001b[0mpred\u001b[0m\u001b[1;33m)\u001b[0m\u001b[1;33m\u001b[0m\u001b[1;33m\u001b[0m\u001b[0m\n\u001b[1;32m----> 7\u001b[1;33m     \u001b[0mlast_layer_weights\u001b[0m \u001b[1;33m=\u001b[0m \u001b[0mmodel_bayes\u001b[0m\u001b[1;33m.\u001b[0m\u001b[0mlayers\u001b[0m\u001b[1;33m[\u001b[0m\u001b[1;33m-\u001b[0m\u001b[1;36m1\u001b[0m\u001b[1;33m]\u001b[0m\u001b[1;33m.\u001b[0m\u001b[0mget_weights\u001b[0m\u001b[1;33m(\u001b[0m\u001b[1;33m)\u001b[0m\u001b[1;33m[\u001b[0m\u001b[1;36m2\u001b[0m\u001b[1;33m]\u001b[0m\u001b[1;33m\u001b[0m\u001b[1;33m\u001b[0m\u001b[0m\n\u001b[0m\u001b[0;32m      8\u001b[0m     \u001b[0mlast_layer_weights_for_pred\u001b[0m \u001b[1;33m=\u001b[0m \u001b[0mlast_layer_weights\u001b[0m\u001b[1;33m[\u001b[0m\u001b[1;33m:\u001b[0m\u001b[1;33m,\u001b[0m \u001b[0mpred_class\u001b[0m\u001b[1;33m]\u001b[0m\u001b[1;33m\u001b[0m\u001b[1;33m\u001b[0m\u001b[0m\n\u001b[0;32m      9\u001b[0m     \u001b[0mlast_conv_model\u001b[0m \u001b[1;33m=\u001b[0m \u001b[0mModel\u001b[0m\u001b[1;33m(\u001b[0m\u001b[0mmodel_bayes\u001b[0m\u001b[1;33m.\u001b[0m\u001b[0minput\u001b[0m\u001b[1;33m,\u001b[0m \u001b[0mmodel_bayes\u001b[0m\u001b[1;33m.\u001b[0m\u001b[0mget_layer\u001b[0m\u001b[1;33m(\u001b[0m\u001b[1;34m\"conv2d_11\"\u001b[0m\u001b[1;33m)\u001b[0m\u001b[1;33m.\u001b[0m\u001b[0moutput\u001b[0m\u001b[1;33m)\u001b[0m\u001b[1;33m\u001b[0m\u001b[1;33m\u001b[0m\u001b[0m\n",
      "\u001b[1;31mIndexError\u001b[0m: list index out of range"
     ]
    }
   ],
   "source": [
    "import random \n",
    "image = random.randint(0,predicted_as_para.shape[0]-1)\n",
    "heat_map =plot_heatmap(predicted_as_para[image])\n",
    "\n",
    "img = predicted_as_para[image]\n",
    "plt.imshow(predicted_as_para[img])"
   ]
  },
  {
   "cell_type": "code",
   "execution_count": 106,
   "id": "cd0a2a3b",
   "metadata": {},
   "outputs": [],
   "source": [
    "model_bayes.save('bayesian_model.h5')"
   ]
  },
  {
   "cell_type": "code",
   "execution_count": 111,
   "id": "083541ea",
   "metadata": {},
   "outputs": [
    {
     "ename": "TypeError",
     "evalue": "'str' object is not callable",
     "output_type": "error",
     "traceback": [
      "\u001b[1;31m---------------------------------------------------------------------------\u001b[0m",
      "\u001b[1;31mTypeError\u001b[0m                                 Traceback (most recent call last)",
      "\u001b[1;32m~\\AppData\\Local\\Temp\\ipykernel_23600\\427148605.py\u001b[0m in \u001b[0;36m<module>\u001b[1;34m\u001b[0m\n\u001b[0;32m      2\u001b[0m \u001b[1;31m# from keras.models import load_model\u001b[0m\u001b[1;33m\u001b[0m\u001b[1;33m\u001b[0m\u001b[0m\n\u001b[0;32m      3\u001b[0m \u001b[1;33m\u001b[0m\u001b[0m\n\u001b[1;32m----> 4\u001b[1;33m \u001b[0mloaded_model\u001b[0m \u001b[1;33m=\u001b[0m \u001b[0mtf\u001b[0m\u001b[1;33m.\u001b[0m\u001b[0mkeras\u001b[0m\u001b[1;33m.\u001b[0m\u001b[0mmodels\u001b[0m\u001b[1;33m.\u001b[0m\u001b[0mload_model\u001b[0m\u001b[1;33m(\u001b[0m\u001b[1;34m'bayesian_model.h5'\u001b[0m\u001b[1;33m,\u001b[0m \u001b[0mcustom_objects\u001b[0m\u001b[1;33m=\u001b[0m\u001b[1;33m{\u001b[0m\u001b[1;34m'Conv2DReparameterization'\u001b[0m\u001b[1;33m:\u001b[0m \u001b[0mConv2DReparameterization\u001b[0m\u001b[1;33m}\u001b[0m\u001b[1;33m)\u001b[0m\u001b[1;33m\u001b[0m\u001b[1;33m\u001b[0m\u001b[0m\n\u001b[0m\u001b[0;32m      5\u001b[0m \u001b[1;31m# loaded_model.evaluate(X_test, y_test)\u001b[0m\u001b[1;33m\u001b[0m\u001b[1;33m\u001b[0m\u001b[0m\n",
      "\u001b[1;32mD:\\Ananconda\\lib\\site-packages\\keras\\utils\\traceback_utils.py\u001b[0m in \u001b[0;36merror_handler\u001b[1;34m(*args, **kwargs)\u001b[0m\n\u001b[0;32m     68\u001b[0m             \u001b[1;31m# To get the full stack trace, call:\u001b[0m\u001b[1;33m\u001b[0m\u001b[1;33m\u001b[0m\u001b[0m\n\u001b[0;32m     69\u001b[0m             \u001b[1;31m# `tf.debugging.disable_traceback_filtering()`\u001b[0m\u001b[1;33m\u001b[0m\u001b[1;33m\u001b[0m\u001b[0m\n\u001b[1;32m---> 70\u001b[1;33m             \u001b[1;32mraise\u001b[0m \u001b[0me\u001b[0m\u001b[1;33m.\u001b[0m\u001b[0mwith_traceback\u001b[0m\u001b[1;33m(\u001b[0m\u001b[0mfiltered_tb\u001b[0m\u001b[1;33m)\u001b[0m \u001b[1;32mfrom\u001b[0m \u001b[1;32mNone\u001b[0m\u001b[1;33m\u001b[0m\u001b[1;33m\u001b[0m\u001b[0m\n\u001b[0m\u001b[0;32m     71\u001b[0m         \u001b[1;32mfinally\u001b[0m\u001b[1;33m:\u001b[0m\u001b[1;33m\u001b[0m\u001b[1;33m\u001b[0m\u001b[0m\n\u001b[0;32m     72\u001b[0m             \u001b[1;32mdel\u001b[0m \u001b[0mfiltered_tb\u001b[0m\u001b[1;33m\u001b[0m\u001b[1;33m\u001b[0m\u001b[0m\n",
      "\u001b[1;32mD:\\Ananconda\\lib\\site-packages\\tensorflow_probability\\python\\layers\\conv_variational.py\u001b[0m in \u001b[0;36mbuild\u001b[1;34m(self, input_shape)\u001b[0m\n\u001b[0;32m    184\u001b[0m \u001b[1;33m\u001b[0m\u001b[0m\n\u001b[0;32m    185\u001b[0m     \u001b[1;31m# Must have a posterior kernel.\u001b[0m\u001b[1;33m\u001b[0m\u001b[1;33m\u001b[0m\u001b[0m\n\u001b[1;32m--> 186\u001b[1;33m     self.kernel_posterior = self.kernel_posterior_fn(\n\u001b[0m\u001b[0;32m    187\u001b[0m         \u001b[0mdtype\u001b[0m\u001b[1;33m,\u001b[0m \u001b[0mkernel_shape\u001b[0m\u001b[1;33m,\u001b[0m \u001b[1;34m'kernel_posterior'\u001b[0m\u001b[1;33m,\u001b[0m\u001b[1;33m\u001b[0m\u001b[1;33m\u001b[0m\u001b[0m\n\u001b[0;32m    188\u001b[0m         self.trainable, self.add_variable)\n",
      "\u001b[1;32mD:\\Ananconda\\lib\\site-packages\\keras\\utils\\generic_utils.py\u001b[0m in \u001b[0;36m_fn\u001b[1;34m(dtype, shape, name, trainable, add_variable_fn)\u001b[0m\n\u001b[0;32m    185\u001b[0m       \u001b[0mMultivariate\u001b[0m\u001b[0;31m \u001b[0m\u001b[0;31m`\u001b[0m\u001b[0mDeterministic\u001b[0m\u001b[0;31m`\u001b[0m \u001b[1;32mor\u001b[0m\u001b[0;31m \u001b[0m\u001b[0;31m`\u001b[0m\u001b[0mNormal\u001b[0m\u001b[0;31m`\u001b[0m \u001b[0mdistribution\u001b[0m\u001b[1;33m.\u001b[0m\u001b[1;33m\u001b[0m\u001b[1;33m\u001b[0m\u001b[0m\n\u001b[0;32m    186\u001b[0m     \"\"\"\n\u001b[1;32m--> 187\u001b[1;33m     \u001b[0mloc\u001b[0m\u001b[1;33m,\u001b[0m \u001b[0mscale\u001b[0m \u001b[1;33m=\u001b[0m \u001b[0mloc_scale_fn\u001b[0m\u001b[1;33m(\u001b[0m\u001b[0mdtype\u001b[0m\u001b[1;33m,\u001b[0m \u001b[0mshape\u001b[0m\u001b[1;33m,\u001b[0m \u001b[0mname\u001b[0m\u001b[1;33m,\u001b[0m \u001b[0mtrainable\u001b[0m\u001b[1;33m,\u001b[0m \u001b[0madd_variable_fn\u001b[0m\u001b[1;33m)\u001b[0m\u001b[1;33m\u001b[0m\u001b[1;33m\u001b[0m\u001b[0m\n\u001b[0m\u001b[0;32m    188\u001b[0m     \u001b[1;32mif\u001b[0m \u001b[0mscale\u001b[0m \u001b[1;32mis\u001b[0m \u001b[1;32mNone\u001b[0m\u001b[1;33m:\u001b[0m\u001b[1;33m\u001b[0m\u001b[1;33m\u001b[0m\u001b[0m\n\u001b[0;32m    189\u001b[0m       \u001b[0mdist\u001b[0m \u001b[1;33m=\u001b[0m \u001b[0mdeterministic_lib\u001b[0m\u001b[1;33m.\u001b[0m\u001b[0mDeterministic\u001b[0m\u001b[1;33m(\u001b[0m\u001b[0mloc\u001b[0m\u001b[1;33m=\u001b[0m\u001b[0mloc\u001b[0m\u001b[1;33m)\u001b[0m\u001b[1;33m\u001b[0m\u001b[1;33m\u001b[0m\u001b[0m\n",
      "\u001b[1;31mTypeError\u001b[0m: 'str' object is not callable"
     ]
    }
   ],
   "source": [
    "from tensorflow_probability.python.layers.conv_variational import Conv2DReparameterization\n",
    "# from keras.models import load_model\n",
    "\n",
    "loaded_model = tf.keras.models.load_model('bayesian_model.h5', custom_objects={'Conv2DReparameterization': Conv2DReparameterization})\n",
    "# loaded_model.evaluate(X_test, y_test)"
   ]
  },
  {
   "cell_type": "code",
   "execution_count": null,
   "id": "b2f3204e",
   "metadata": {},
   "outputs": [],
   "source": []
  }
 ],
 "metadata": {
  "kernelspec": {
   "display_name": "Python 3 (ipykernel)",
   "language": "python",
   "name": "python3"
  },
  "language_info": {
   "codemirror_mode": {
    "name": "ipython",
    "version": 3
   },
   "file_extension": ".py",
   "mimetype": "text/x-python",
   "name": "python",
   "nbconvert_exporter": "python",
   "pygments_lexer": "ipython3",
   "version": "3.9.13"
  },
  "toc": {
   "base_numbering": 1,
   "nav_menu": {},
   "number_sections": true,
   "sideBar": true,
   "skip_h1_title": false,
   "title_cell": "Table of Contents",
   "title_sidebar": "Contents",
   "toc_cell": false,
   "toc_position": {},
   "toc_section_display": true,
   "toc_window_display": false
  },
  "varInspector": {
   "cols": {
    "lenName": 16,
    "lenType": 16,
    "lenVar": 40
   },
   "kernels_config": {
    "python": {
     "delete_cmd_postfix": "",
     "delete_cmd_prefix": "del ",
     "library": "var_list.py",
     "varRefreshCmd": "print(var_dic_list())"
    },
    "r": {
     "delete_cmd_postfix": ") ",
     "delete_cmd_prefix": "rm(",
     "library": "var_list.r",
     "varRefreshCmd": "cat(var_dic_list()) "
    }
   },
   "types_to_exclude": [
    "module",
    "function",
    "builtin_function_or_method",
    "instance",
    "_Feature"
   ],
   "window_display": false
  }
 },
 "nbformat": 4,
 "nbformat_minor": 5
}
